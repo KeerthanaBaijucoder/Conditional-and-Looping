{
 "cells": [
  {
   "cell_type": "code",
   "execution_count": null,
   "id": "3c05a92f-6880-493f-b45e-766e4b33fccf",
   "metadata": {},
   "outputs": [],
   "source": [
    "Exercise 1"
   ]
  },
  {
   "cell_type": "code",
   "execution_count": 1,
   "id": "e4e10f77-5703-4e4b-8e0f-ba66aec568ea",
   "metadata": {},
   "outputs": [
    {
     "name": "stdin",
     "output_type": "stream",
     "text": [
      "Enter the month:  3\n"
     ]
    },
    {
     "name": "stdout",
     "output_type": "stream",
     "text": [
      "Month 3 is March\n"
     ]
    }
   ],
   "source": [
    "months = [\"\", \"January\", \"February\", \"March\", \"April\", \"May\", \"June\",\n",
    "          \"July\", \"August\", \"September\", \"October\", \"November\", \"December\"]\n",
    "month_number = int(input(\"Enter the month: \"))\n",
    "if 1 <= month_number <= 12:\n",
    "    print(f\"Month {month_number} is {months[month_number]}\")\n",
    "else:\n",
    "    print(\"Invalid month number. Please enter a number between 1 and 12.\")"
   ]
  },
  {
   "cell_type": "code",
   "execution_count": null,
   "id": "e5422b62-5bd3-453a-a9d9-53a44c60686f",
   "metadata": {},
   "outputs": [],
   "source": [
    "Exercise 2"
   ]
  },
  {
   "cell_type": "code",
   "execution_count": 3,
   "id": "b4414cd1-f59f-4ab6-85d3-cced32891b4f",
   "metadata": {},
   "outputs": [
    {
     "name": "stdin",
     "output_type": "stream",
     "text": [
      "Enter your age:  63\n"
     ]
    },
    {
     "name": "stdout",
     "output_type": "stream",
     "text": [
      "Your ticket costs £2.00\n"
     ]
    }
   ],
   "source": [
    "full_price = 6.00\n",
    "age = int(input(\"Enter your age: \"))\n",
    "if age < 16:\n",
    "    price = full_price / 2\n",
    "elif age >= 60:\n",
    "    price = full_price / 3\n",
    "else:\n",
    "    price = full_price\n",
    "print(f\"Your ticket costs £{price:.2f}\")"
   ]
  },
  {
   "cell_type": "code",
   "execution_count": null,
   "id": "b14df423-1b18-4d72-a7d5-aa6f3ce13f0c",
   "metadata": {},
   "outputs": [],
   "source": [
    "Exercise 3"
   ]
  },
  {
   "cell_type": "code",
   "execution_count": 5,
   "id": "f0db7548-28a3-4c0a-9de0-2da07ab8f792",
   "metadata": {},
   "outputs": [
    {
     "name": "stdin",
     "output_type": "stream",
     "text": [
      "Enter your weight in (kg):  75\n",
      "Enter your height in (m):  1.70\n"
     ]
    },
    {
     "name": "stdout",
     "output_type": "stream",
     "text": [
      "\n",
      "Your BMI is: 25.95\n",
      "You are in the \"overweight\" range.\n"
     ]
    }
   ],
   "source": [
    "weight = float(input(\"Enter your weight in (kg): \"))\n",
    "height = float(input(\"Enter your height in (m): \"))\n",
    "bmi = weight / (height ** 2)\n",
    "if bmi < 18.5:\n",
    "    category = \"underweight\"\n",
    "elif 18.5 <= bmi <= 24.9:\n",
    "    category = \"normal\"\n",
    "elif 25 <= bmi <= 29.9:\n",
    "    category = \"overweight\"\n",
    "else:\n",
    "    category = \"obese\"\n",
    "print(f\"\\nYour BMI is: {bmi:.2f}\")\n",
    "print(f'You are in the \"{category}\" range.')"
   ]
  },
  {
   "cell_type": "code",
   "execution_count": null,
   "id": "1e10fd5f-db49-4f14-9cdb-910fff0f93ff",
   "metadata": {},
   "outputs": [],
   "source": [
    "Exercise 4"
   ]
  },
  {
   "cell_type": "code",
   "execution_count": 7,
   "id": "117a2932-fbce-44c5-a9d0-58786e1b96d2",
   "metadata": {},
   "outputs": [
    {
     "name": "stdin",
     "output_type": "stream",
     "text": [
      "Enter first number:  85\n",
      "Enter second number:  46\n",
      "Enter third number:  55\n"
     ]
    },
    {
     "name": "stdout",
     "output_type": "stream",
     "text": [
      "The greatest number is: 85.0\n"
     ]
    }
   ],
   "source": [
    "num1 = float(input(\"Enter first number: \"))\n",
    "num2 = float(input(\"Enter second number: \"))\n",
    "num3 = float(input(\"Enter third number: \"))\n",
    "greatest = max(num1, num2, num3)\n",
    "print(f\"The greatest number is: {greatest}\")"
   ]
  },
  {
   "cell_type": "code",
   "execution_count": null,
   "id": "3e4a7b65-0542-407b-8e91-9ea9fab2f9d0",
   "metadata": {},
   "outputs": [],
   "source": [
    "Exercise 5"
   ]
  },
  {
   "cell_type": "code",
   "execution_count": 9,
   "id": "472b00c2-4e5a-4c89-8de9-39288085f24e",
   "metadata": {},
   "outputs": [
    {
     "name": "stdin",
     "output_type": "stream",
     "text": [
      "Enter a number to find its factorial:  5\n"
     ]
    },
    {
     "name": "stdout",
     "output_type": "stream",
     "text": [
      "The factorial of 5 is: 120\n"
     ]
    }
   ],
   "source": [
    "num = int(input(\"Enter a number to find its factorial: \"))\n",
    "factorial = 1\n",
    "if num < 0:\n",
    "    print(\"Factorial is not defined for negative numbers.\")\n",
    "else:\n",
    "    for i in range(1, num + 1):\n",
    "        factorial *= i\n",
    "    print(f\"The factorial of {num} is: {factorial}\")"
   ]
  },
  {
   "cell_type": "code",
   "execution_count": null,
   "id": "bb5eda9b-da91-40c5-8e05-758713a2af84",
   "metadata": {},
   "outputs": [],
   "source": [
    "Exercise 6"
   ]
  },
  {
   "cell_type": "code",
   "execution_count": 11,
   "id": "f071b1bc-fcd1-4b40-9f47-8c7253a128de",
   "metadata": {},
   "outputs": [
    {
     "name": "stdin",
     "output_type": "stream",
     "text": [
      "Enter a number to reverse:  789456\n"
     ]
    },
    {
     "name": "stdout",
     "output_type": "stream",
     "text": [
      "The reverse of 789456 is: 654987\n"
     ]
    }
   ],
   "source": [
    "num = int(input(\"Enter a number to reverse: \"))\n",
    "original_num = num\n",
    "reversed_num = 0\n",
    "is_negative = num < 0\n",
    "num = abs(num)\n",
    "while num > 0:\n",
    "    digit = num % 10\n",
    "    reversed_num = reversed_num * 10 + digit\n",
    "    num //= 10\n",
    "if is_negative:\n",
    "    reversed_num = -reversed_num\n",
    "print(f\"The reverse of {original_num} is: {reversed_num}\")"
   ]
  },
  {
   "cell_type": "code",
   "execution_count": null,
   "id": "170a4aec-1260-4b13-9cf8-b98a6d90596d",
   "metadata": {},
   "outputs": [],
   "source": [
    "Exercise 7"
   ]
  },
  {
   "cell_type": "code",
   "execution_count": 13,
   "id": "17332ba4-544e-40ec-9030-5caed7452be5",
   "metadata": {},
   "outputs": [
    {
     "name": "stdin",
     "output_type": "stream",
     "text": [
      "Enter a number to find its multiples:  65\n",
      "How many multiples do you want to see?  5\n"
     ]
    },
    {
     "name": "stdout",
     "output_type": "stream",
     "text": [
      "\n",
      "The first 5 multiples of 65 are:\n",
      "65 x 1 = 65\n",
      "65 x 2 = 130\n",
      "65 x 3 = 195\n",
      "65 x 4 = 260\n",
      "65 x 5 = 325\n"
     ]
    }
   ],
   "source": [
    "number = int(input(\"Enter a number to find its multiples: \"))\n",
    "count = int(input(\"How many multiples do you want to see? \"))\n",
    "print(f\"\\nThe first {count} multiples of {number} are:\")\n",
    "for i in range(1, count + 1):\n",
    "    print(f\"{number} x {i} = {number * i}\")"
   ]
  },
  {
   "cell_type": "code",
   "execution_count": null,
   "id": "5006491b-4f93-44d7-a2b9-cc135bb39499",
   "metadata": {},
   "outputs": [],
   "source": [
    "Exercise 8"
   ]
  },
  {
   "cell_type": "code",
   "execution_count": 15,
   "id": "f77f0391-9974-4470-9c1c-5e4de0dcd0c7",
   "metadata": {},
   "outputs": [
    {
     "name": "stdin",
     "output_type": "stream",
     "text": [
      ": hello there\n"
     ]
    },
    {
     "name": "stdout",
     "output_type": "stream",
     "text": [
      "hello there\n"
     ]
    },
    {
     "name": "stdin",
     "output_type": "stream",
     "text": [
      ": finished\n"
     ]
    },
    {
     "name": "stdout",
     "output_type": "stream",
     "text": [
      "finished\n"
     ]
    },
    {
     "name": "stdin",
     "output_type": "stream",
     "text": [
      ": done\n"
     ]
    },
    {
     "name": "stdout",
     "output_type": "stream",
     "text": [
      "done\n"
     ]
    }
   ],
   "source": [
    "while True:\n",
    "    user_input = input(\":\")\n",
    "    print(user_input)\n",
    "    \n",
    "    if user_input.lower() == \"done\":\n",
    "        break"
   ]
  },
  {
   "cell_type": "code",
   "execution_count": null,
   "id": "7aabc5e1-f05a-421f-8fa6-18e1e24aa989",
   "metadata": {},
   "outputs": [],
   "source": [
    "Exercise 9"
   ]
  },
  {
   "cell_type": "code",
   "execution_count": 17,
   "id": "d245b47f-8d36-4dbd-95a4-8673a70a86ab",
   "metadata": {},
   "outputs": [
    {
     "name": "stdout",
     "output_type": "stream",
     "text": [
      "1\n",
      "2\n",
      "Fizz\n",
      "4\n",
      "Buzz\n",
      "Fizz\n",
      "7\n",
      "8\n",
      "Fizz\n",
      "Buzz\n"
     ]
    }
   ],
   "source": [
    "for i in range(1, 11):\n",
    "    if i % 3 == 0 and i % 5 == 0:\n",
    "        print(\"FizzBuzz\")\n",
    "    elif i % 3 == 0:\n",
    "        print(\"Fizz\")\n",
    "    elif i % 5 == 0:\n",
    "        print(\"Buzz\")\n",
    "    else:\n",
    "        print(i)"
   ]
  },
  {
   "cell_type": "code",
   "execution_count": null,
   "id": "cc5fde07-93a4-4271-bdb1-35da50d15325",
   "metadata": {},
   "outputs": [],
   "source": [
    "Exercise 10"
   ]
  },
  {
   "cell_type": "code",
   "execution_count": 19,
   "id": "09341efc-a360-4312-9743-d60cb6ff164d",
   "metadata": {},
   "outputs": [
    {
     "name": "stdout",
     "output_type": "stream",
     "text": [
      "54321\n",
      "4321\n",
      "321\n",
      "21\n",
      "1\n"
     ]
    }
   ],
   "source": [
    "for i in range(5, 0, -1):\n",
    "    for j in range(i, 0, -1):\n",
    "        print(j, end='')\n",
    "    print()"
   ]
  },
  {
   "cell_type": "code",
   "execution_count": null,
   "id": "92353f74-29e2-4a20-a22b-df674ca9097c",
   "metadata": {},
   "outputs": [],
   "source": []
  }
 ],
 "metadata": {
  "kernelspec": {
   "display_name": "Python [conda env:base] *",
   "language": "python",
   "name": "conda-base-py"
  },
  "language_info": {
   "codemirror_mode": {
    "name": "ipython",
    "version": 3
   },
   "file_extension": ".py",
   "mimetype": "text/x-python",
   "name": "python",
   "nbconvert_exporter": "python",
   "pygments_lexer": "ipython3",
   "version": "3.12.7"
  }
 },
 "nbformat": 4,
 "nbformat_minor": 5
}
